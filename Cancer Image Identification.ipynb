{
 "cells": [
  {
   "cell_type": "markdown",
   "id": "7886099a",
   "metadata": {},
   "source": [
    "## Cancer Image Identification\n",
    "* In this notebook we evaluate the Cancer Detection Dataset on Kaggle\n",
    "* This notebook is availble at https://github.com/wiwi9262/cancer_detection  **GITHUB REPOSITORY**"
   ]
  },
  {
   "cell_type": "markdown",
   "id": "384a0093",
   "metadata": {},
   "source": [
    "### Problem Statement\n",
    "* The PCAM dataset includes images that allow us to train a model for identifying metastatic cancer\n",
    "* Creating labels for images is not a linearly seperable problem\n",
    "* Convolutional Neural Networks have been shown to provide good results for labeling images\n",
    "* The dataset is a subset of the orginal dataset that has had duplicates removed\n",
    "* The problem is important because it can help with automatically labeling the probability that an image contains cancer\n",
    "* This helps physicians and researches with screening; even if they do not solely rely on automated labeling\n",
    "* Source : https://www.kaggle.com/c/histopathologic-cancer-detection"
   ]
  },
  {
   "cell_type": "markdown",
   "id": "7a67e3ab",
   "metadata": {},
   "source": [
    "### Imports"
   ]
  },
  {
   "cell_type": "code",
   "execution_count": 74,
   "id": "881d3951",
   "metadata": {},
   "outputs": [],
   "source": [
    "from PIL import Image\n",
    "from os import listdir\n",
    "from os.path import isfile, join,splitext\n",
    "import numpy as np\n",
    "import random\n",
    "import pandas as pd\n",
    "import tensorflow as tf\n",
    "import matplotlib.pyplot as plt \n",
    "import seaborn as sns\n",
    "from tensorflow.keras import layers, models\n",
    "from keras.callbacks import EarlyStopping\n",
    "\n",
    "#from sklearn.model_selection import train_test_split\n"
   ]
  },
  {
   "cell_type": "markdown",
   "id": "13ba5f78",
   "metadata": {},
   "source": [
    "### Download the Data"
   ]
  },
  {
   "cell_type": "code",
   "execution_count": 2,
   "id": "914aead7",
   "metadata": {},
   "outputs": [],
   "source": [
    "# This will download the data and locally store it\n",
    "# There are more than 7 GB of images files\n",
    "# This assumes that the kaggle API is installed - pip install kaggle\n",
    "## and that the api key is downloaded \n",
    "\n",
    "\n",
    "# Only run once\n",
    "# ! kaggle competitions download -c histopathologic-cancer-detection"
   ]
  },
  {
   "cell_type": "code",
   "execution_count": 3,
   "id": "ac255976",
   "metadata": {},
   "outputs": [
    {
     "data": {
      "text/plain": [
       "'\\nimport zipfile\\npath_to_zip_file = \"data/histopathologic-cancer-detection.zip\"\\nwith zipfile.ZipFile(path_to_zip_file, \\'r\\') as zip_ref:\\n    zip_ref.extractall(\"images\")\\n'"
      ]
     },
     "execution_count": 3,
     "metadata": {},
     "output_type": "execute_result"
    }
   ],
   "source": [
    "# Unzip the file\n",
    "\n",
    "\"\"\"\n",
    "import zipfile\n",
    "path_to_zip_file = \"data/histopathologic-cancer-detection.zip\"\n",
    "with zipfile.ZipFile(path_to_zip_file, 'r') as zip_ref:\n",
    "    zip_ref.extractall(\"images\")\n",
    "\"\"\"\n"
   ]
  },
  {
   "cell_type": "markdown",
   "id": "d223f435",
   "metadata": {},
   "source": [
    "### Describe the Data\n",
    "* Brief description of the challenge problem and NLP. Description of the size, dimension, structure of the data\n",
    "    * Identifying cancer is a difficult process that requires an expert to evaluate images\n",
    "    * Machine learning can assist the experts by labeling images with a belief metric related to the probability that the image includes malignant cells\n",
    "    * The purpose of this exercise is to train a nueral network on a model that includes data labeled as either 0 or 1\n",
    "    * A label of 1 means that it contains a malignant cell in the center block of the data\n",
    "    * The data is presented as 96x96 pixels with 3 colors\n",
    "    * There are 220,025 traininig images\n",
    "    * Out of those images, 89117 include a malignant cell\n",
    "    * Since approximately 40% of the data was labeled as malignant, that is balanced enough to not need upsampling\n",
    "    * The test set contains 57,458 records of unknown labels\n"
   ]
  },
  {
   "cell_type": "code",
   "execution_count": 5,
   "id": "94fcf790",
   "metadata": {},
   "outputs": [
    {
     "data": {
      "text/html": [
       "<div>\n",
       "<style scoped>\n",
       "    .dataframe tbody tr th:only-of-type {\n",
       "        vertical-align: middle;\n",
       "    }\n",
       "\n",
       "    .dataframe tbody tr th {\n",
       "        vertical-align: top;\n",
       "    }\n",
       "\n",
       "    .dataframe thead th {\n",
       "        text-align: right;\n",
       "    }\n",
       "</style>\n",
       "<table border=\"1\" class=\"dataframe\">\n",
       "  <thead>\n",
       "    <tr style=\"text-align: right;\">\n",
       "      <th></th>\n",
       "      <th>id</th>\n",
       "      <th>label</th>\n",
       "    </tr>\n",
       "  </thead>\n",
       "  <tbody>\n",
       "    <tr>\n",
       "      <th>0</th>\n",
       "      <td>f38a6374c348f90b587e046aac6079959adf3835</td>\n",
       "      <td>0</td>\n",
       "    </tr>\n",
       "    <tr>\n",
       "      <th>1</th>\n",
       "      <td>c18f2d887b7ae4f6742ee445113fa1aef383ed77</td>\n",
       "      <td>1</td>\n",
       "    </tr>\n",
       "    <tr>\n",
       "      <th>2</th>\n",
       "      <td>755db6279dae599ebb4d39a9123cce439965282d</td>\n",
       "      <td>0</td>\n",
       "    </tr>\n",
       "    <tr>\n",
       "      <th>3</th>\n",
       "      <td>bc3f0c64fb968ff4a8bd33af6971ecae77c75e08</td>\n",
       "      <td>0</td>\n",
       "    </tr>\n",
       "    <tr>\n",
       "      <th>4</th>\n",
       "      <td>068aba587a4950175d04c680d38943fd488d6a9d</td>\n",
       "      <td>0</td>\n",
       "    </tr>\n",
       "  </tbody>\n",
       "</table>\n",
       "</div>"
      ],
      "text/plain": [
       "                                         id  label\n",
       "0  f38a6374c348f90b587e046aac6079959adf3835      0\n",
       "1  c18f2d887b7ae4f6742ee445113fa1aef383ed77      1\n",
       "2  755db6279dae599ebb4d39a9123cce439965282d      0\n",
       "3  bc3f0c64fb968ff4a8bd33af6971ecae77c75e08      0\n",
       "4  068aba587a4950175d04c680d38943fd488d6a9d      0"
      ]
     },
     "execution_count": 5,
     "metadata": {},
     "output_type": "execute_result"
    }
   ],
   "source": [
    "training_labels = pd.read_csv(\"./images/train_labels.csv\")\n",
    "training_labels.head()"
   ]
  },
  {
   "cell_type": "code",
   "execution_count": 6,
   "id": "34df1e57",
   "metadata": {},
   "outputs": [],
   "source": [
    "training_labels.sort_values(by=['id'],ascending=True,inplace=True)"
   ]
  },
  {
   "cell_type": "code",
   "execution_count": 7,
   "id": "d4a5f7e8",
   "metadata": {},
   "outputs": [
    {
     "data": {
      "text/html": [
       "<div>\n",
       "<style scoped>\n",
       "    .dataframe tbody tr th:only-of-type {\n",
       "        vertical-align: middle;\n",
       "    }\n",
       "\n",
       "    .dataframe tbody tr th {\n",
       "        vertical-align: top;\n",
       "    }\n",
       "\n",
       "    .dataframe thead th {\n",
       "        text-align: right;\n",
       "    }\n",
       "</style>\n",
       "<table border=\"1\" class=\"dataframe\">\n",
       "  <thead>\n",
       "    <tr style=\"text-align: right;\">\n",
       "      <th></th>\n",
       "      <th>id</th>\n",
       "      <th>label</th>\n",
       "    </tr>\n",
       "  </thead>\n",
       "  <tbody>\n",
       "    <tr>\n",
       "      <th>151577</th>\n",
       "      <td>00001b2b5609af42ab0ab276dd4cd41c3e7745b5</td>\n",
       "      <td>1</td>\n",
       "    </tr>\n",
       "    <tr>\n",
       "      <th>16166</th>\n",
       "      <td>000020de2aa6193f4c160e398a8edea95b1da598</td>\n",
       "      <td>0</td>\n",
       "    </tr>\n",
       "    <tr>\n",
       "      <th>87832</th>\n",
       "      <td>00004aab08381d25d315384d646f5ce413ea24b1</td>\n",
       "      <td>0</td>\n",
       "    </tr>\n",
       "    <tr>\n",
       "      <th>69359</th>\n",
       "      <td>0000d563d5cfafc4e68acb7c9829258a298d9b6a</td>\n",
       "      <td>0</td>\n",
       "    </tr>\n",
       "    <tr>\n",
       "      <th>128953</th>\n",
       "      <td>0000da768d06b879e5754c43e2298ce48726f722</td>\n",
       "      <td>1</td>\n",
       "    </tr>\n",
       "    <tr>\n",
       "      <th>95060</th>\n",
       "      <td>0000f8a4da4c286eee5cf1b0d2ab82f979989f7b</td>\n",
       "      <td>0</td>\n",
       "    </tr>\n",
       "    <tr>\n",
       "      <th>134354</th>\n",
       "      <td>00010f78ea8f878117500c445a658e5857f4e304</td>\n",
       "      <td>0</td>\n",
       "    </tr>\n",
       "    <tr>\n",
       "      <th>52564</th>\n",
       "      <td>00011545a495817817c6943583b294c900a137b8</td>\n",
       "      <td>0</td>\n",
       "    </tr>\n",
       "    <tr>\n",
       "      <th>78234</th>\n",
       "      <td>000126ec42770c7568204e2f6e07eb9a07d5e121</td>\n",
       "      <td>0</td>\n",
       "    </tr>\n",
       "    <tr>\n",
       "      <th>90027</th>\n",
       "      <td>00014e39b5df5f80df56f18a0a049d1cc6de430a</td>\n",
       "      <td>1</td>\n",
       "    </tr>\n",
       "  </tbody>\n",
       "</table>\n",
       "</div>"
      ],
      "text/plain": [
       "                                              id  label\n",
       "151577  00001b2b5609af42ab0ab276dd4cd41c3e7745b5      1\n",
       "16166   000020de2aa6193f4c160e398a8edea95b1da598      0\n",
       "87832   00004aab08381d25d315384d646f5ce413ea24b1      0\n",
       "69359   0000d563d5cfafc4e68acb7c9829258a298d9b6a      0\n",
       "128953  0000da768d06b879e5754c43e2298ce48726f722      1\n",
       "95060   0000f8a4da4c286eee5cf1b0d2ab82f979989f7b      0\n",
       "134354  00010f78ea8f878117500c445a658e5857f4e304      0\n",
       "52564   00011545a495817817c6943583b294c900a137b8      0\n",
       "78234   000126ec42770c7568204e2f6e07eb9a07d5e121      0\n",
       "90027   00014e39b5df5f80df56f18a0a049d1cc6de430a      1"
      ]
     },
     "execution_count": 7,
     "metadata": {},
     "output_type": "execute_result"
    }
   ],
   "source": [
    "training_labels.head(10)"
   ]
  },
  {
   "cell_type": "code",
   "execution_count": 8,
   "id": "4d6dc7d2",
   "metadata": {},
   "outputs": [],
   "source": [
    "label_list = list(training_labels['label'])"
   ]
  },
  {
   "cell_type": "code",
   "execution_count": 9,
   "id": "f4a4d198",
   "metadata": {},
   "outputs": [
    {
     "data": {
      "text/plain": [
       "1"
      ]
     },
     "execution_count": 9,
     "metadata": {},
     "output_type": "execute_result"
    }
   ],
   "source": [
    "file =\"00014e39b5df5f80df56f18a0a049d1cc6de430a\"\n",
    "int(training_labels['label'][training_labels['id']==file] )"
   ]
  },
  {
   "cell_type": "code",
   "execution_count": 10,
   "id": "c867675a",
   "metadata": {},
   "outputs": [
    {
     "data": {
      "text/plain": [
       "[1, 0, 0, 0, 1, 0, 0, 0, 0, 1]"
      ]
     },
     "execution_count": 10,
     "metadata": {},
     "output_type": "execute_result"
    }
   ],
   "source": [
    "label_list[0:10]  # Just spot checking"
   ]
  },
  {
   "cell_type": "code",
   "execution_count": 11,
   "id": "57f7eece",
   "metadata": {},
   "outputs": [],
   "source": [
    "# Sort the images and save as PNG\n",
    "# I am doing this so it works nicely with the keras util to load images from a diretory\n",
    "# I commented it out after the initial run so I could easily restart the notebook\n",
    "comment_out = \"\"\"\n",
    "mypath = \"./images/train/\"\n",
    "dst_path = \"./images/label_subfolder/train/\" # manually created\n",
    "onlyfiles = [f for f in listdir(mypath) if isfile(join(mypath, f))]\n",
    "\n",
    "for the_file in onlyfiles:\n",
    "    if \"tif\" in the_file:\n",
    "        with Image.open(mypath+the_file) as im:\n",
    "            file, ext = splitext(the_file)\n",
    "            #try:\n",
    "            if int(training_labels['label'][training_labels['id']==file]) == 0:\n",
    "                    im.save(dst_path+ \"0/\" +file + \".png\",\"PNG\")\n",
    "            else:\n",
    "                    im.save(dst_path+ \"1/\" +file + \".png\",\"PNG\")\n",
    "            #except:\n",
    "            #    print(\"Skipped\",file)\n",
    "            \n",
    "\"\"\"            "
   ]
  },
  {
   "cell_type": "code",
   "execution_count": 12,
   "id": "2280831c",
   "metadata": {},
   "outputs": [],
   "source": [
    "\n",
    "comment_out = \"\"\"\n",
    "mypath = \"./images/test/\"\n",
    "dst_path = \"./images/test_png/\" # manually created\n",
    "onlyfiles = [f for f in listdir(mypath) if isfile(join(mypath, f))]\n",
    "\n",
    "for the_file in onlyfiles:\n",
    "    if \"tif\" in the_file:\n",
    "        with Image.open(mypath+the_file) as im:\n",
    "            file, ext = splitext(the_file)\n",
    "            im.save(dst_path+file + \".png\",\"PNG\")\n",
    "\"\"\"\n"
   ]
  },
  {
   "cell_type": "code",
   "execution_count": 13,
   "id": "38646c2d",
   "metadata": {},
   "outputs": [],
   "source": [
    "# ?tf.keras.utils.image_dataset_from_directory"
   ]
  },
  {
   "cell_type": "code",
   "execution_count": 14,
   "id": "dc25f0bb",
   "metadata": {},
   "outputs": [],
   "source": [
    "mypath = \"./images/label_subfolder/train\""
   ]
  },
  {
   "cell_type": "code",
   "execution_count": 15,
   "id": "72257f56",
   "metadata": {},
   "outputs": [],
   "source": [
    "# Get random seed for split\n",
    "seed= random.randint(1,10000)"
   ]
  },
  {
   "cell_type": "code",
   "execution_count": 16,
   "id": "ffd512e7",
   "metadata": {},
   "outputs": [
    {
     "name": "stdout",
     "output_type": "stream",
     "text": [
      "Found 220025 files belonging to 2 classes.\n",
      "Using 66008 files for training.\n"
     ]
    },
    {
     "name": "stderr",
     "output_type": "stream",
     "text": [
      "2022-05-31 00:32:42.722802: W tensorflow/stream_executor/platform/default/dso_loader.cc:64] Could not load dynamic library 'libcuda.so.1'; dlerror: libcuda.so.1: cannot open shared object file: No such file or directory; LD_LIBRARY_PATH: /usr/local/cuda/lib64:/usr/local/nccl2/lib:/usr/local/cuda/extras/CUPTI/lib64\n",
      "2022-05-31 00:32:42.722886: W tensorflow/stream_executor/cuda/cuda_driver.cc:269] failed call to cuInit: UNKNOWN ERROR (303)\n",
      "2022-05-31 00:32:42.722922: I tensorflow/stream_executor/cuda/cuda_diagnostics.cc:156] kernel driver does not appear to be running on this host (tensorflow-ann): /proc/driver/nvidia/version does not exist\n",
      "2022-05-31 00:32:42.723457: I tensorflow/core/platform/cpu_feature_guard.cc:193] This TensorFlow binary is optimized with oneAPI Deep Neural Network Library (oneDNN) to use the following CPU instructions in performance-critical operations:  AVX2 FMA\n",
      "To enable them in other operations, rebuild TensorFlow with the appropriate compiler flags.\n"
     ]
    }
   ],
   "source": [
    "batch_size=32\n",
    "train_ds = tf.keras.preprocessing.image_dataset_from_directory(\n",
    "  mypath,\n",
    "  label_mode = 'binary',\n",
    "  validation_split=0.7,\n",
    "  subset=\"training\",\n",
    "  seed=seed,\n",
    "  image_size=(96, 96),\n",
    "  batch_size=batch_size\n",
    ")\n",
    "\n",
    "# if this doesnt work then write a sorting function"
   ]
  },
  {
   "cell_type": "code",
   "execution_count": 17,
   "id": "a1b8129c",
   "metadata": {},
   "outputs": [
    {
     "name": "stdout",
     "output_type": "stream",
     "text": [
      "Found 220025 files belonging to 2 classes.\n",
      "Using 66007 files for validation.\n"
     ]
    }
   ],
   "source": [
    "batch_size=32\n",
    "val_ds = tf.keras.preprocessing.image_dataset_from_directory(\n",
    "  mypath,\n",
    "  label_mode = 'binary',\n",
    "  validation_split=0.3,\n",
    "  subset=\"validation\",\n",
    "  seed=seed,\n",
    "  image_size=(96, 96),\n",
    "  batch_size=batch_size\n",
    ")\n",
    "\n",
    "# if this doesnt work then write a sorting function"
   ]
  },
  {
   "cell_type": "code",
   "execution_count": 18,
   "id": "01acfc43",
   "metadata": {},
   "outputs": [
    {
     "data": {
      "text/plain": [
       "['0', '1']"
      ]
     },
     "execution_count": 18,
     "metadata": {},
     "output_type": "execute_result"
    }
   ],
   "source": [
    "train_ds.class_names"
   ]
  },
  {
   "cell_type": "markdown",
   "id": "6d84e1f0",
   "metadata": {},
   "source": [
    "### Exploratory Data Analysis\n",
    "* Show a few visualizations like histograms. Describe any data cleaning procedures. Based on your EDA, what is your plan of analysis? \n",
    "    * The data is fairly clean already\n",
    "    * It contains 40% maligant and 60% benign images\n",
    "    * All images are 96x96x3 images\n",
    "        * We only care about finding a cell in the center 32x32\n",
    "        * The other pixels are included to help with padding\n",
    "    * To load the data, we used a Keras library to load images from a directory\n",
    "    * This library handled batching, but it does not support TIFF\n",
    "    * To get out data to work with this library, we used PIL to convert to PNG\n",
    "    * The library supports a label file, but it was not working properly\n",
    "    * To work around the issue, we sorted the data by label into folders called \"0\" and \"1\"\n",
    "    * The sorting mitigated the problem with the Keras load data method\n",
    "    * Pixel values range up to 255. We need to scale that to range from 0 1 for the CANN to operate\n",
    "        * Scaling is supported as a layer in the CNN"
   ]
  },
  {
   "cell_type": "markdown",
   "id": "b529c719-399a-46d7-8945-556ec97d3693",
   "metadata": {},
   "source": [
    "#### Two example benign images\n"
   ]
  },
  {
   "cell_type": "code",
   "execution_count": 117,
   "id": "5d026d5b-154a-4786-9af0-dcba5fdf7e75",
   "metadata": {},
   "outputs": [
    {
     "data": {
      "image/png": "[encoded data removed]",
      "text/plain": [
       "<PIL.PngImagePlugin.PngImageFile image mode=RGB size=96x96>"
      ]
     },
     "metadata": {},
     "output_type": "display_data"
    }
   ],
   "source": [
    "pil_im = Image.open('images/label_subfolder/train/0/f38a6374c348f90b587e046aac6079959adf3835.png')\n",
    "display(pil_im)\n",
    "pil_im.close()"
   ]
  },
  {
   "cell_type": "code",
   "execution_count": 118,
   "id": "6bb69e0d-1832-4602-ac80-a1f1ebd61009",
   "metadata": {},
   "outputs": [
    {
     "data": {
      "image/png": "[encoded data removed]",
      "text/plain": [
       "<PIL.PngImagePlugin.PngImageFile image mode=RGB size=96x96>"
      ]
     },
     "metadata": {},
     "output_type": "display_data"
    }
   ],
   "source": [
    "pil_im = Image.open('images/label_subfolder/train/0/79d7929dc47230f323e439fba10afb21bc906356.png')\n",
    "display(pil_im)\n",
    "pil_im.close()"
   ]
  },
  {
   "cell_type": "markdown",
   "id": "c479d6bd-62e9-4153-8073-55ce00ff3438",
   "metadata": {},
   "source": [
    "#### Two sample malignant images"
   ]
  },
  {
   "cell_type": "code",
   "execution_count": 119,
   "id": "2dfaa02e-335a-4250-af7a-fddfb5f10d22",
   "metadata": {},
   "outputs": [
    {
     "data": {
      "image/png": "[encoded data removed]",
      "text/plain": [
       "<PIL.PngImagePlugin.PngImageFile image mode=RGB size=96x96>"
      ]
     },
     "metadata": {},
     "output_type": "display_data"
    }
   ],
   "source": [
    "pil_im = Image.open('images/label_subfolder/train/1/a1a9e9c1282bcbe4208fa8daad935d6771af9792.png')\n",
    "display(pil_im)\n",
    "pil_im.close()"
   ]
  },
  {
   "cell_type": "code",
   "execution_count": 120,
   "id": "2a93a89c-492d-43f4-aafb-6cb72f9fb5de",
   "metadata": {},
   "outputs": [
    {
     "data": {
      "image/png": "[encoded data removed]",
      "text/plain": [
       "<PIL.PngImagePlugin.PngImageFile image mode=RGB size=96x96>"
      ]
     },
     "metadata": {},
     "output_type": "display_data"
    }
   ],
   "source": [
    "pil_im = Image.open('images/label_subfolder/train/1/bcf56e8dc7668c6f2aabd4cba9517a5b5d1439ca.png')\n",
    "display(pil_im)\n",
    "pil_im.close()"
   ]
  },
  {
   "cell_type": "markdown",
   "id": "28232414-274d-4409-ad3f-69973014876d",
   "metadata": {},
   "source": [
    "#### Two sample test images"
   ]
  },
  {
   "cell_type": "code",
   "execution_count": 121,
   "id": "9892d434-a11f-44c6-807f-a2fc91c4698d",
   "metadata": {},
   "outputs": [
    {
     "data": {
      "image/png": "[encoded data removed]",
      "text/plain": [
       "<PIL.PngImagePlugin.PngImageFile image mode=RGB size=96x96>"
      ]
     },
     "metadata": {},
     "output_type": "display_data"
    }
   ],
   "source": [
    "pil_im = Image.open('images/test_png/0084317dbb3398aed9f7c915c2cdef5a07ada5be.png')\n",
    "display(pil_im)\n",
    "pil_im.close()"
   ]
  },
  {
   "cell_type": "code",
   "execution_count": 122,
   "id": "6f9188f8-8b34-4459-9627-e4b21cacb28f",
   "metadata": {},
   "outputs": [
    {
     "data": {
      "image/png": "[encoded data removed]",
      "text/plain": [
       "<PIL.PngImagePlugin.PngImageFile image mode=RGB size=96x96>"
      ]
     },
     "metadata": {},
     "output_type": "display_data"
    }
   ],
   "source": [
    "pil_im = Image.open('images/test_png/cb61efc7ad4f45c2989b8338aae9a8a578102a6c.png')\n",
    "display(pil_im)\n",
    "pil_im.close()"
   ]
  },
  {
   "cell_type": "markdown",
   "id": "0e94cacc-0af2-4a50-a5f9-e42ce009bdeb",
   "metadata": {},
   "source": [
    "* Not being a medical professional, I do not even know where to start but I will demonstrate that a CNN can figure it out"
   ]
  },
  {
   "cell_type": "markdown",
   "id": "29127b59-6e56-43f7-8a02-86fde44e269b",
   "metadata": {},
   "source": [
    "#### Histogram of label distribution"
   ]
  },
  {
   "cell_type": "code",
   "execution_count": 115,
   "id": "d223e585",
   "metadata": {},
   "outputs": [
    {
     "data": {
      "image/png": "[encoded data removed]",
      "text/plain": [
       "<Figure size 432x288 with 1 Axes>"
      ]
     },
     "metadata": {
      "needs_background": "light"
     },
     "output_type": "display_data"
    }
   ],
   "source": [
    "sns.histplot(data=training_labels, x=\"label\",bins=2).set(title='Training Label Count');"
   ]
  },
  {
   "cell_type": "markdown",
   "id": "5c9c0271",
   "metadata": {},
   "source": [
    "### Model Architecture\n",
    "* Describe your model architecture and reasoning for why you believe that specific architecture would be suitable for this problem. Compare multiple architectures and tune hyperparameters. \n"
   ]
  },
  {
   "cell_type": "markdown",
   "id": "2475e115",
   "metadata": {},
   "source": [
    "#### Model 1\n",
    "* We started with a model that includes a rescaling layer then alternates between convolution and max pooling layers\n",
    "* We used the default stride and rectified linear unit activation\n",
    "* We did not flatten before the first layer\n",
    "* We used two layers in the back propigaton part with 64 nodes in the hidden layer\n",
    "* We used early stopping with a patience setting of 2\n",
    "    * The patience setting was added after initial testing to prevent undertraining problems that I was seeing"
   ]
  },
  {
   "cell_type": "code",
   "execution_count": 59,
   "id": "4e4ff737",
   "metadata": {},
   "outputs": [],
   "source": [
    "model1 = models.Sequential()\n",
    "model1.add(layers.Rescaling(1./255))\n",
    "model1.add(layers.Conv2D(32, (3, 3), activation='relu', input_shape=(96, 96, 3)))\n",
    "model1.add(layers.MaxPooling2D((2, 2)))\n",
    "model1.add(layers.Conv2D(64, (3, 3), activation='relu'))\n",
    "model1.add(layers.MaxPooling2D((2, 2)))\n",
    "model1.add(layers.Conv2D(64, (3, 3), activation='relu'))"
   ]
  },
  {
   "cell_type": "code",
   "execution_count": 64,
   "id": "5a8eaaf8",
   "metadata": {},
   "outputs": [],
   "source": [
    "model1.add(layers.Flatten())\n",
    "model1.add(layers.Dense(64, activation='relu'))\n",
    "model1.add(layers.Dense(1,activation='sigmoid'))"
   ]
  },
  {
   "cell_type": "code",
   "execution_count": 69,
   "id": "93973594",
   "metadata": {},
   "outputs": [],
   "source": [
    "model1.compile(optimizer='adam',\n",
    "              loss=\"binary_crossentropy\",\n",
    "              metrics=['accuracy'])"
   ]
  },
  {
   "cell_type": "code",
   "execution_count": 70,
   "id": "ef21fce2",
   "metadata": {},
   "outputs": [
    {
     "name": "stdout",
     "output_type": "stream",
     "text": [
      "Epoch 1/10\n",
      "2063/2063 [==============================] - 654s 316ms/step - loss: 0.4708 - accuracy: 0.7809 - val_loss: 0.4271 - val_accuracy: 0.8045\n",
      "Epoch 2/10\n",
      "2063/2063 [==============================] - 636s 308ms/step - loss: 0.4034 - accuracy: 0.8219 - val_loss: 0.3966 - val_accuracy: 0.8252\n",
      "Epoch 3/10\n",
      "2063/2063 [==============================] - 642s 311ms/step - loss: 0.3463 - accuracy: 0.8513 - val_loss: 0.3336 - val_accuracy: 0.8558\n",
      "Epoch 4/10\n",
      "2063/2063 [==============================] - 654s 317ms/step - loss: 0.3030 - accuracy: 0.8731 - val_loss: 0.3526 - val_accuracy: 0.8487\n",
      "Epoch 5/10\n",
      "2063/2063 [==============================] - 653s 316ms/step - loss: 0.2591 - accuracy: 0.8951 - val_loss: 0.3681 - val_accuracy: 0.8547\n",
      "Epoch 5: early stopping\n"
     ]
    }
   ],
   "source": [
    "# simple early stopping\n",
    "#https://machinelearningmastery.com/how-to-stop-training-deep-neural-networks-at-the-right-time-using-early-stopping/\n",
    "es1 = EarlyStopping(monitor='val_loss', mode='auto', patience=2, verbose=1)\n",
    "image_fit1 = model1.fit(train_ds,\n",
    "                      validation_data=val_ds,\n",
    "                      epochs=10, \n",
    "                      callbacks=[es1]\n",
    "                   )"
   ]
  },
  {
   "cell_type": "code",
   "execution_count": 71,
   "id": "0e5164f1-2c35-4de0-8edb-9e2576aadbf1",
   "metadata": {},
   "outputs": [
    {
     "name": "stdout",
     "output_type": "stream",
     "text": [
      "Train: 0.905, Validation: 0.855\n"
     ]
    },
    {
     "data": {
      "image/png": "[encoded data removed]",
      "text/plain": [
       "<Figure size 432x288 with 1 Axes>"
      ]
     },
     "metadata": {
      "needs_background": "light"
     },
     "output_type": "display_data"
    }
   ],
   "source": [
    "# evaluate the model\n",
    "_, train_acc1 = model1.evaluate(train_ds, verbose=0)\n",
    "_, test_acc1 = model1.evaluate(val_ds, verbose=0)\n",
    "print('Train: %.3f, Validation: %.3f' % (train_acc1, test_acc1))\n",
    "# plot training history\n",
    "plt.plot(image_fit1.history['loss'], label='train')\n",
    "plt.plot(image_fit1.history['val_loss'], label='test')\n",
    "plt.legend()\n",
    "plt.show()"
   ]
  },
  {
   "cell_type": "code",
   "execution_count": null,
   "id": "f55811bf",
   "metadata": {},
   "outputs": [],
   "source": []
  },
  {
   "cell_type": "markdown",
   "id": "cd4abe66",
   "metadata": {},
   "source": [
    "#### Model 2\n",
    "* Model 2 is the same as model 1 except we \n",
    "    * Removed a max pool and added a stride to one convolution layer\n",
    "    * Change kernel size to 5x5\n"
   ]
  },
  {
   "cell_type": "code",
   "execution_count": 30,
   "id": "357f92c5",
   "metadata": {},
   "outputs": [],
   "source": [
    "model2 = models.Sequential()\n",
    "model2.add(layers.Rescaling(1./255))\n",
    "model2.add(layers.Conv2D(32, (5, 5), activation='relu',padding=\"same\",strides=(2,2), input_shape=(96, 96, 3)))\n",
    "model2.add(layers.Conv2D(64, (5, 5), activation='relu',padding=\"same\"))\n",
    "model2.add(layers.MaxPooling2D((2, 2),strides=(2, 2)))\n",
    "model2.add(layers.Conv2D(64, (5, 5), activation='relu',padding=\"same\"))\n",
    "model2.add(layers.Flatten())\n",
    "model2.add(layers.Dense(64, activation=\"relu\"))\n",
    "model2.add(layers.Dense(1, activation=\"sigmoid\")) \n",
    "model2.compile(optimizer='adam',\n",
    "               loss=\"binary_crossentropy\",\n",
    "               metrics=['accuracy'])"
   ]
  },
  {
   "cell_type": "code",
   "execution_count": 31,
   "id": "f82aed4b",
   "metadata": {},
   "outputs": [
    {
     "name": "stdout",
     "output_type": "stream",
     "text": [
      "Epoch 1/10\n",
      "2063/2063 [==============================] - 1263s 612ms/step - loss: 0.4774 - accuracy: 0.7778 - val_loss: 0.4063 - val_accuracy: 0.8144\n",
      "Epoch 2/10\n",
      "2063/2063 [==============================] - 1259s 611ms/step - loss: 0.3921 - accuracy: 0.8237 - val_loss: 0.3700 - val_accuracy: 0.8315\n",
      "Epoch 3/10\n",
      "2063/2063 [==============================] - 1258s 610ms/step - loss: 0.3570 - accuracy: 0.8429 - val_loss: 0.3449 - val_accuracy: 0.8457\n",
      "Epoch 4/10\n",
      "2063/2063 [==============================] - 1260s 611ms/step - loss: 0.3294 - accuracy: 0.8571 - val_loss: 0.3383 - val_accuracy: 0.8526\n",
      "Epoch 5/10\n",
      "2063/2063 [==============================] - 1278s 619ms/step - loss: 0.2883 - accuracy: 0.8786 - val_loss: 0.3504 - val_accuracy: 0.8488\n",
      "Epoch 6/10\n",
      "2063/2063 [==============================] - 1260s 611ms/step - loss: 0.2371 - accuracy: 0.9020 - val_loss: 0.3994 - val_accuracy: 0.8439\n",
      "Epoch 6: early stopping\n"
     ]
    }
   ],
   "source": [
    "es2 = EarlyStopping(monitor='val_loss', mode='auto', patience=2, verbose=1)\n",
    "image_fit2 = model2.fit(train_ds,\n",
    "                      validation_data=val_ds,\n",
    "                      epochs=10, \n",
    "                      callbacks=[es2]\n",
    "                   )"
   ]
  },
  {
   "cell_type": "code",
   "execution_count": 32,
   "id": "d27e8986-f448-4c6b-8a26-e34cbbac77f3",
   "metadata": {},
   "outputs": [
    {
     "name": "stdout",
     "output_type": "stream",
     "text": [
      "Train: 0.913, Validation: 0.844\n"
     ]
    },
    {
     "data": {
      "image/png": "[encoded data removed]",
      "text/plain": [
       "<Figure size 432x288 with 1 Axes>"
      ]
     },
     "metadata": {
      "needs_background": "light"
     },
     "output_type": "display_data"
    }
   ],
   "source": [
    "# evaluate the model\n",
    "_, train_acc2 = model2.evaluate(train_ds, verbose=0)\n",
    "_, test_acc2 = model2.evaluate(val_ds, verbose=0)\n",
    "print('Train: %.3f, Validation: %.3f' % (train_acc2, test_acc2))\n",
    "# plot training history\n",
    "plt.plot(image_fit2.history['loss'], label='train')\n",
    "plt.plot(image_fit2.history['val_loss'], label='test')\n",
    "plt.legend()\n",
    "plt.show()"
   ]
  },
  {
   "cell_type": "markdown",
   "id": "d5c4b5d4",
   "metadata": {},
   "source": [
    "#### Model 3\n",
    "* Model 3 is the same as model 2 except we \n",
    "    * Added more strides\n",
    "    * Removed all pooling\n"
   ]
  },
  {
   "cell_type": "code",
   "execution_count": 33,
   "id": "0560686b",
   "metadata": {},
   "outputs": [],
   "source": [
    "model3 = models.Sequential()\n",
    "model3.add(layers.Rescaling(1./255))\n",
    "model3.add(layers.Conv2D(32, (6,6), activation='relu',padding=\"same\",strides=(3,3), input_shape=(96, 96, 3)))\n",
    "model3.add(layers.Conv2D(64, (6, 6), activation='relu',strides=(3,3),padding=\"same\"))\n",
    "#model3.add(layers.GlobalAveragePooling2D())\n",
    "model3.add(layers.Conv2D(64, (6, 6), activation='relu',strides=(3,3),padding=\"same\"))\n",
    "model3.add(layers.Flatten())\n",
    "model3.add(layers.Dense(32, activation=\"relu\"))\n",
    "model3.add(layers.Dense(1, activation=\"sigmoid\")) \n",
    "model3.compile(optimizer='adam',\n",
    "               loss=\"binary_crossentropy\",\n",
    "               metrics=['accuracy'])"
   ]
  },
  {
   "cell_type": "code",
   "execution_count": 34,
   "id": "ce6238a3",
   "metadata": {},
   "outputs": [
    {
     "name": "stdout",
     "output_type": "stream",
     "text": [
      "Epoch 1/10\n",
      "2063/2063 [==============================] - 157s 76ms/step - loss: 0.4869 - accuracy: 0.7714 - val_loss: 0.4298 - val_accuracy: 0.8078\n",
      "Epoch 2/10\n",
      "2063/2063 [==============================] - 158s 76ms/step - loss: 0.4254 - accuracy: 0.8071 - val_loss: 0.4189 - val_accuracy: 0.8094\n",
      "Epoch 3/10\n",
      "2063/2063 [==============================] - 158s 76ms/step - loss: 0.3921 - accuracy: 0.8270 - val_loss: 0.3896 - val_accuracy: 0.8288\n",
      "Epoch 4/10\n",
      "2063/2063 [==============================] - 157s 76ms/step - loss: 0.3600 - accuracy: 0.8426 - val_loss: 0.4197 - val_accuracy: 0.8105\n",
      "Epoch 5/10\n",
      "2063/2063 [==============================] - 157s 76ms/step - loss: 0.3084 - accuracy: 0.8684 - val_loss: 0.4518 - val_accuracy: 0.8071\n",
      "Epoch 5: early stopping\n"
     ]
    }
   ],
   "source": [
    "es3 = EarlyStopping(monitor='val_loss', mode='auto', patience=2, verbose=1)\n",
    "image_fit3 = model3.fit(train_ds,\n",
    "                      validation_data=val_ds,\n",
    "                      epochs=10, \n",
    "                      callbacks=[es3]\n",
    "                   )"
   ]
  },
  {
   "cell_type": "code",
   "execution_count": 35,
   "id": "7c1f9d5a-b574-4aab-90a6-799e83e7a678",
   "metadata": {},
   "outputs": [
    {
     "name": "stdout",
     "output_type": "stream",
     "text": [
      "Train: 0.912, Validation: 0.846\n"
     ]
    },
    {
     "data": {
      "image/png": "[encoded data removed]",
      "text/plain": [
       "<Figure size 432x288 with 1 Axes>"
      ]
     },
     "metadata": {
      "needs_background": "light"
     },
     "output_type": "display_data"
    }
   ],
   "source": [
    "# evaluate the model\n",
    "_, train_acc3 = model3.evaluate(train_ds, verbose=0)\n",
    "_, test_acc3 = model3.evaluate(val_ds, verbose=0)\n",
    "print('Train: %.3f, Validation: %.3f' % (train_acc1, test_acc1))\n",
    "# plot training history\n",
    "plt.plot(image_fit3.history['loss'], label='train')\n",
    "plt.plot(image_fit3.history['val_loss'], label='test')\n",
    "plt.legend()\n",
    "plt.show()"
   ]
  },
  {
   "cell_type": "markdown",
   "id": "a114bf42",
   "metadata": {},
   "source": [
    "#### Model 4\n",
    "* Model 4 is the same as model 3 except we add  a drop out layer\n"
   ]
  },
  {
   "cell_type": "code",
   "execution_count": 36,
   "id": "b3cb3f90",
   "metadata": {},
   "outputs": [],
   "source": [
    "model4 = models.Sequential()\n",
    "model4.add(layers.Rescaling(1./255))\n",
    "model4.add(layers.Conv2D(32, (6,6), activation='relu',padding=\"same\",strides=(3,3), input_shape=(96, 96, 3)))\n",
    "model4.add(layers.Conv2D(64, (6, 6), activation='relu',strides=(3,3),padding=\"same\"))\n",
    "model4.add(layers.Conv2D(64, (6, 6), activation='relu',strides=(3,3),padding=\"same\"))\n",
    "model4.add(layers.Flatten())\n",
    "model4.add(layers.Dropout(0.2, (None, 1024) ))\n",
    "model4.add(layers.Dense(32, activation=\"relu\"))\n",
    "model4.add(layers.Dense(1, activation=\"sigmoid\")) \n",
    "model4.compile(optimizer='adam',\n",
    "               loss=\"binary_crossentropy\",\n",
    "               metrics=['accuracy'])"
   ]
  },
  {
   "cell_type": "code",
   "execution_count": 37,
   "id": "2a180d17-c95b-486f-9e27-5c7b153e4980",
   "metadata": {},
   "outputs": [
    {
     "name": "stdout",
     "output_type": "stream",
     "text": [
      "Epoch 1/10\n",
      "2063/2063 [==============================] - 160s 77ms/step - loss: 0.5012 - accuracy: 0.7606 - val_loss: 0.4594 - val_accuracy: 0.7881\n",
      "Epoch 2/10\n",
      "2063/2063 [==============================] - 157s 76ms/step - loss: 0.4524 - accuracy: 0.7943 - val_loss: 0.4379 - val_accuracy: 0.8001\n",
      "Epoch 3/10\n",
      "2063/2063 [==============================] - 153s 74ms/step - loss: 0.4270 - accuracy: 0.8091 - val_loss: 0.4200 - val_accuracy: 0.8121\n",
      "Epoch 4/10\n",
      "2063/2063 [==============================] - 153s 74ms/step - loss: 0.3999 - accuracy: 0.8223 - val_loss: 0.4281 - val_accuracy: 0.8074\n",
      "Epoch 5/10\n",
      "2063/2063 [==============================] - 153s 74ms/step - loss: 0.3678 - accuracy: 0.8382 - val_loss: 0.4355 - val_accuracy: 0.8089\n",
      "Epoch 5: early stopping\n"
     ]
    }
   ],
   "source": [
    "es4 = EarlyStopping(monitor='val_loss', mode='auto', patience=2, verbose=1)\n",
    "image_fit4 = model4.fit(train_ds,\n",
    "                      validation_data=val_ds,\n",
    "                      epochs=10, \n",
    "                      callbacks=[es4]\n",
    "                   )"
   ]
  },
  {
   "cell_type": "code",
   "execution_count": 38,
   "id": "834aebfd-51fa-422d-b7ff-59509a28ecce",
   "metadata": {},
   "outputs": [
    {
     "name": "stdout",
     "output_type": "stream",
     "text": [
      "Train: 0.865, Validation: 0.809\n"
     ]
    },
    {
     "data": {
      "image/png": "[encoded data removed]",
      "text/plain": [
       "<Figure size 432x288 with 1 Axes>"
      ]
     },
     "metadata": {
      "needs_background": "light"
     },
     "output_type": "display_data"
    }
   ],
   "source": [
    "# evaluate the model\n",
    "_, train_acc4 = model4.evaluate(train_ds, verbose=0)\n",
    "_, test_acc4 = model4.evaluate(val_ds, verbose=0)\n",
    "print('Train: %.3f, Validation: %.3f' % (train_acc4, test_acc4))\n",
    "# plot training history\n",
    "plt.plot(image_fit4.history['loss'], label='train')\n",
    "plt.plot(image_fit4.history['val_loss'], label='test')\n",
    "plt.legend()\n",
    "plt.show()"
   ]
  },
  {
   "cell_type": "code",
   "execution_count": null,
   "id": "9b192978-c887-4664-b75b-9895e28a4ab5",
   "metadata": {},
   "outputs": [],
   "source": []
  },
  {
   "cell_type": "markdown",
   "id": "5a1ee7d8",
   "metadata": {},
   "source": [
    "### Results and Analysis\n",
    "Run hyperparameter tuning, try different architectures for comparison, apply techniques to improve training or performance, and discuss what helped.\n",
    "\n",
    "Includes results with tables and figures. There is an analysis of why or why not something worked well, troubleshooting, and a hyperparameter optimization procedure summary.\n"
   ]
  },
  {
   "cell_type": "markdown",
   "id": "8ccee5db-7da7-484c-8f59-bb2f1178a56c",
   "metadata": {},
   "source": [
    "* I tested several options that are not documented in this document\n",
    "* Some models got stuck at an accuracy of approximately 60% which aligns with the proportion of benign images\n",
    "* These models seemed to \"train\" slowly but did not improve no mater how many epochs I allowed\n",
    "* One example is when I had two convolution layers using the default stride setting and without any pooling between the layers\n",
    "* The first model used Max Pooling between each convolution layer. That had good results.\n",
    "* We also tried strides and different filter sizes.\n",
    "* The accuracy of the four models in this notebook are similar, but the training times differ\n",
    "* The first model was the fastest\n",
    "* The second model was the slowest\n",
    "* The third and fourth models were adjustments to the second model to improve the speed\n",
    "* Tables of results are provided in the conclusion section"
   ]
  },
  {
   "cell_type": "markdown",
   "id": "c556645d",
   "metadata": {},
   "source": [
    "### Save CSV file for scoring on Kaggle"
   ]
  },
  {
   "cell_type": "code",
   "execution_count": 75,
   "id": "907fa4fc-1508-445a-b311-f707026583f7",
   "metadata": {},
   "outputs": [],
   "source": [
    "# I am not sure if order matters. Just in case, lets load the CSV. \n",
    "# Find the file associated with the name and test it then update the CSV\n",
    "dfResult1 = pd.read_csv(\"images/sample_submission.csv\")\n",
    "dfResult2 = dfResult1.copy()\n",
    "dfResult3 = dfResult1.copy()\n",
    "dfResult4 = dfResult1.copy()"
   ]
  },
  {
   "cell_type": "code",
   "execution_count": 98,
   "id": "bef77102-1a2b-4166-a6f8-fd7b1b6a1c57",
   "metadata": {},
   "outputs": [
    {
     "name": "stdout",
     "output_type": "stream",
     "text": [
      "Found 57458 files belonging to 1 classes.\n"
     ]
    }
   ],
   "source": [
    "mypath = \"./images/test_png\"\n",
    "test_ds = tf.keras.preprocessing.image_dataset_from_directory(\n",
    "  mypath,\n",
    "  labels=None,\n",
    "  shuffle = False, # I think this was my problem. Defaults to shuffle=True\n",
    "  label_mode = 'binary',\n",
    "  image_size=(96, 96)\n",
    ")"
   ]
  },
  {
   "cell_type": "code",
   "execution_count": 99,
   "id": "1cbff961-ac5d-42bc-baf1-4972e2f21e69",
   "metadata": {},
   "outputs": [
    {
     "name": "stdout",
     "output_type": "stream",
     "text": [
      "1796/1796 [==============================] - 130s 72ms/step\n",
      "1796/1796 [==============================] - 230s 128ms/step\n",
      "1796/1796 [==============================] - 41s 23ms/step\n",
      "1796/1796 [==============================] - 41s 23ms/step\n"
     ]
    }
   ],
   "source": [
    "# Take a look at the dataset to see if I can figure out proper way to use it with predict\n",
    "test_labels1 = model1.predict(test_ds)\n",
    "test_labels2 = model2.predict(test_ds)\n",
    "test_labels3 = model3.predict(test_ds)\n",
    "test_labels4 = model4.predict(test_ds)"
   ]
  },
  {
   "cell_type": "code",
   "execution_count": 100,
   "id": "36b261de-6cc0-494d-97bd-cc798e051bca",
   "metadata": {},
   "outputs": [
    {
     "data": {
      "text/plain": [
       "array([[8.4114689e-01],\n",
       "       [9.8265105e-01],\n",
       "       [7.3275220e-01],\n",
       "       ...,\n",
       "       [3.0504028e-09],\n",
       "       [8.0031246e-01],\n",
       "       [1.8986596e-02]], dtype=float32)"
      ]
     },
     "execution_count": 100,
     "metadata": {},
     "output_type": "execute_result"
    }
   ],
   "source": [
    "test_labels2"
   ]
  },
  {
   "cell_type": "code",
   "execution_count": 101,
   "id": "cf98240b-c1c9-4b6b-843a-68785372034f",
   "metadata": {},
   "outputs": [],
   "source": [
    "file_paths = test_ds.file_paths\n",
    "#file_list = [splitext(x)[0] for x in file_paths]\n",
    "file_list = [x[18:-4] for x in file_paths]\n"
   ]
  },
  {
   "cell_type": "code",
   "execution_count": 103,
   "id": "51e63b88-d63c-44af-8831-1cd9a27e2086",
   "metadata": {},
   "outputs": [],
   "source": [
    "for index in range(len(file_list)):\n",
    "    dfResult1.loc[dfResult1['id'] == file_list[index],'label'] = round(test_labels1[index,0])\n",
    "    dfResult2.loc[dfResult2['id'] == file_list[index],'label'] = round(test_labels2[index,0])\n",
    "    dfResult3.loc[dfResult3['id'] == file_list[index],'label'] = round(test_labels3[index,0])\n",
    "    dfResult4.loc[dfResult4['id'] == file_list[index],'label'] = round(test_labels4[index,0])\n"
   ]
  },
  {
   "cell_type": "code",
   "execution_count": 104,
   "id": "086aeac8-d98f-42d6-8e1a-26a3043a2c64",
   "metadata": {},
   "outputs": [
    {
     "data": {
      "text/html": [
       "<div>\n",
       "<style scoped>\n",
       "    .dataframe tbody tr th:only-of-type {\n",
       "        vertical-align: middle;\n",
       "    }\n",
       "\n",
       "    .dataframe tbody tr th {\n",
       "        vertical-align: top;\n",
       "    }\n",
       "\n",
       "    .dataframe thead th {\n",
       "        text-align: right;\n",
       "    }\n",
       "</style>\n",
       "<table border=\"1\" class=\"dataframe\">\n",
       "  <thead>\n",
       "    <tr style=\"text-align: right;\">\n",
       "      <th></th>\n",
       "      <th>id</th>\n",
       "      <th>label</th>\n",
       "    </tr>\n",
       "  </thead>\n",
       "  <tbody>\n",
       "    <tr>\n",
       "      <th>0</th>\n",
       "      <td>0b2ea2a822ad23fdb1b5dd26653da899fbd2c0d5</td>\n",
       "      <td>0</td>\n",
       "    </tr>\n",
       "    <tr>\n",
       "      <th>1</th>\n",
       "      <td>95596b92e5066c5c52466c90b69ff089b39f2737</td>\n",
       "      <td>1</td>\n",
       "    </tr>\n",
       "    <tr>\n",
       "      <th>2</th>\n",
       "      <td>248e6738860e2ebcf6258cdc1f32f299e0c76914</td>\n",
       "      <td>0</td>\n",
       "    </tr>\n",
       "    <tr>\n",
       "      <th>3</th>\n",
       "      <td>2c35657e312966e9294eac6841726ff3a748febf</td>\n",
       "      <td>0</td>\n",
       "    </tr>\n",
       "    <tr>\n",
       "      <th>4</th>\n",
       "      <td>145782eb7caa1c516acbe2eda34d9a3f31c41fd6</td>\n",
       "      <td>0</td>\n",
       "    </tr>\n",
       "  </tbody>\n",
       "</table>\n",
       "</div>"
      ],
      "text/plain": [
       "                                         id  label\n",
       "0  0b2ea2a822ad23fdb1b5dd26653da899fbd2c0d5      0\n",
       "1  95596b92e5066c5c52466c90b69ff089b39f2737      1\n",
       "2  248e6738860e2ebcf6258cdc1f32f299e0c76914      0\n",
       "3  2c35657e312966e9294eac6841726ff3a748febf      0\n",
       "4  145782eb7caa1c516acbe2eda34d9a3f31c41fd6      0"
      ]
     },
     "execution_count": 104,
     "metadata": {},
     "output_type": "execute_result"
    }
   ],
   "source": [
    "dfResult3.head()"
   ]
  },
  {
   "cell_type": "code",
   "execution_count": 105,
   "id": "8cce84c4-e59e-4593-aa14-8684328029f2",
   "metadata": {},
   "outputs": [
    {
     "data": {
      "text/plain": [
       "19275"
      ]
     },
     "execution_count": 105,
     "metadata": {},
     "output_type": "execute_result"
    }
   ],
   "source": [
    "dfResult1['label'].sum()\n",
    "# this had things that werent 0 but it was still 50% detection. something is wrong \n",
    "# I think the problem is in how it is reading the test data.\n"
   ]
  },
  {
   "cell_type": "code",
   "execution_count": 106,
   "id": "23f32d55-fc34-4764-b025-b168ee1d0d0d",
   "metadata": {},
   "outputs": [
    {
     "data": {
      "text/plain": [
       "20517"
      ]
     },
     "execution_count": 106,
     "metadata": {},
     "output_type": "execute_result"
    }
   ],
   "source": [
    "dfResult2['label'].sum()"
   ]
  },
  {
   "cell_type": "code",
   "execution_count": 107,
   "id": "000ea5ff-ea36-400e-8b9a-b7751d6d6618",
   "metadata": {},
   "outputs": [
    {
     "data": {
      "text/plain": [
       "19526"
      ]
     },
     "execution_count": 107,
     "metadata": {},
     "output_type": "execute_result"
    }
   ],
   "source": [
    "dfResult3['label'].sum()"
   ]
  },
  {
   "cell_type": "code",
   "execution_count": 108,
   "id": "f42aa68e-6e0f-481a-8be3-bffa2e0ec555",
   "metadata": {},
   "outputs": [
    {
     "data": {
      "text/plain": [
       "20217"
      ]
     },
     "execution_count": 108,
     "metadata": {},
     "output_type": "execute_result"
    }
   ],
   "source": [
    "dfResult4['label'].sum()"
   ]
  },
  {
   "cell_type": "code",
   "execution_count": 109,
   "id": "5371868f-0ddb-4846-8ac4-7617d7235711",
   "metadata": {},
   "outputs": [],
   "source": [
    "dfResult1.to_csv(\"submission1.csv\",index=False)"
   ]
  },
  {
   "cell_type": "code",
   "execution_count": 110,
   "id": "e07ffa66-989a-4627-a09d-5e52a3f66021",
   "metadata": {},
   "outputs": [],
   "source": [
    "dfResult2.to_csv(\"submission2.csv\",index=False)"
   ]
  },
  {
   "cell_type": "code",
   "execution_count": 111,
   "id": "87a3477e-1505-4d98-b522-f7296510ec4d",
   "metadata": {},
   "outputs": [],
   "source": [
    "dfResult3.to_csv(\"submission3.csv\",index=False)"
   ]
  },
  {
   "cell_type": "code",
   "execution_count": 112,
   "id": "fdd4570e-689b-44fb-ae3e-1cd4ac9ec0db",
   "metadata": {},
   "outputs": [],
   "source": [
    "dfResult4.to_csv(\"submission4.csv\",index=False)"
   ]
  },
  {
   "cell_type": "markdown",
   "id": "1b98c03c",
   "metadata": {},
   "source": [
    "### Conclusion\n",
    "\n",
    "Discuss and interpret results as well as learnings and takeaways. What did and did not help improve the performance of your models? What improvements could you try in the future?"
   ]
  },
  {
   "cell_type": "markdown",
   "id": "e186bf36-33b9-4120-9e27-2f4f5bb89631",
   "metadata": {},
   "source": [
    "|Model|Training Accuracy|Training Validation|Test Score|Test Public Score|\n",
    "|-|-|-|-|-|\n",
    "|1 | 0.8951 | 0.8547 | 0.7621 | 0.7919|\n",
    "|2 | 0.9020 | 0.8439 | 0.7791 | 0.7918|\n",
    "| 3 | 0.8684 | 0.8071 | 0.7316 | 0.7802|\n",
    "|4 | 0.8382 | 0.8089 | 0.7562 | 0.8041|\n"
   ]
  },
  {
   "cell_type": "markdown",
   "id": "0a4e6de4-ab05-4d32-b517-f3ad6c91be4b",
   "metadata": {},
   "source": [
    "* The above table shows the results from each model\n",
    "* The first model was the most basic and it trained the fastest\n",
    "* The second model took significantly more time to train but did not provide substantially better results\n",
    "* Attempts to use concepts from the second model but reduce training time took an impact on results\n",
    "* Deeper convolutional neural networks could improve the results, but they take a long time to train\n",
    "    * Due to time constaints, we limited our evaluation to models that could train within a day\n",
    "    * We implemented early stop, both to reduce training time and to prevent overfitting"
   ]
  },
  {
   "cell_type": "markdown",
   "id": "97df8828-babf-4a1c-91d6-d76e4c5f72ca",
   "metadata": {},
   "source": [
    "### References\n",
    "* https://arxiv.org/pdf/2108.13661.pdf\n",
    "* https://www.tensorflow.org/tutorials/load_data/images\n",
    "* https://machinelearningmastery.com/how-to-stop-training-deep-neural-networks-at-the-right-time-using-early-stopping/\n",
    "* https://stackoverflow.com/questions/62166588/how-to-obtain-filenames-during-prediction-while-using-tf-keras-preprocessing-ima"
   ]
  }
 ],
 "metadata": {
  "environment": {
   "kernel": "python3",
   "name": "tf2-gpu.2-9.m92",
   "type": "gcloud",
   "uri": "gcr.io/deeplearning-platform-release/tf2-gpu.2-9:m92"
  },
  "kernelspec": {
   "display_name": "Python 3",
   "language": "python",
   "name": "python3"
  },
  "language_info": {
   "codemirror_mode": {
    "name": "ipython",
    "version": 3
   },
   "file_extension": ".py",
   "mimetype": "text/x-python",
   "name": "python",
   "nbconvert_exporter": "python",
   "pygments_lexer": "ipython3",
   "version": "3.7.12"
  }
 },
 "nbformat": 4,
 "nbformat_minor": 5
}
